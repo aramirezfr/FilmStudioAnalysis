{
 "cells": [
  {
   "cell_type": "markdown",
   "id": "357485b2",
   "metadata": {},
   "source": [
    "# Business Understanding"
   ]
  },
  {
   "cell_type": "markdown",
   "id": "b8b7dfd0",
   "metadata": {},
   "source": []
  },
  {
   "cell_type": "markdown",
   "id": "2b5edcad",
   "metadata": {},
   "source": [
    "# Data Understanding"
   ]
  },
  {
   "cell_type": "markdown",
   "id": "2b5702d6",
   "metadata": {},
   "source": []
  },
  {
   "cell_type": "markdown",
   "id": "89fbccd9",
   "metadata": {},
   "source": [
    "## Data Preparation"
   ]
  },
  {
   "cell_type": "markdown",
   "id": "0db815a5",
   "metadata": {},
   "source": []
  },
  {
   "cell_type": "markdown",
   "id": "daf932c8",
   "metadata": {},
   "source": [
    "# Exploratory Analysis"
   ]
  },
  {
   "cell_type": "markdown",
   "id": "87405f03",
   "metadata": {},
   "source": []
  },
  {
   "cell_type": "markdown",
   "id": "ac95f766",
   "metadata": {},
   "source": [
    "# Conclusions"
   ]
  },
  {
   "cell_type": "markdown",
   "id": "9276a22b",
   "metadata": {},
   "source": []
  },
  {
   "cell_type": "markdown",
   "id": "172a5205",
   "metadata": {},
   "source": [
    "# Limitations"
   ]
  },
  {
   "cell_type": "markdown",
   "id": "1bd59da5",
   "metadata": {},
   "source": []
  },
  {
   "cell_type": "markdown",
   "id": "5498ef2d",
   "metadata": {},
   "source": [
    "# Recommendations"
   ]
  },
  {
   "cell_type": "code",
   "execution_count": null,
   "id": "e164cc23",
   "metadata": {},
   "outputs": [],
   "source": []
  },
  {
   "cell_type": "markdown",
   "id": "c0414197",
   "metadata": {},
   "source": [
    "# Next Steps"
   ]
  },
  {
   "cell_type": "code",
   "execution_count": null,
   "id": "acd9ee5b",
   "metadata": {},
   "outputs": [],
   "source": []
  }
 ],
 "metadata": {
  "kernelspec": {
   "display_name": "Python (learn-env)",
   "language": "python",
   "name": "learn-env"
  },
  "language_info": {
   "codemirror_mode": {
    "name": "ipython",
    "version": 3
   },
   "file_extension": ".py",
   "mimetype": "text/x-python",
   "name": "python",
   "nbconvert_exporter": "python",
   "pygments_lexer": "ipython3",
   "version": "3.8.5"
  }
 },
 "nbformat": 4,
 "nbformat_minor": 5
}
